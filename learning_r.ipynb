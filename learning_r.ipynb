{
 "cells": [
  {
   "cell_type": "markdown",
   "id": "fa45be16",
   "metadata": {},
   "source": [
    "\n",
    "Programming: What is It?\n",
    "========================\n",
    "\n",
    "I want to start today's lecture with a recommendation for a mind-\n",
    "blowing book: Scott Aaronson's \"Quantum Computing Since Democritus.\"\n",
    "\n",
    "Aaronson has a very fun style in which the gist is always conveyed\n",
    "without sacrificing rigor. If you've ever wondered what the heck\n",
    "quantum computing is all about, and whether quantum computers really\n",
    "\"do all the possible calculations at the same time,\" it's a great book\n",
    "to read and you hardly need all that much physics to understand it.\n",
    "\n",
    "But the reason I'm recommending it today is because it really gets\n",
    "across the basic idea of computer science which is: imagine the set of\n",
    "all tasks you can accomplish by following a finite set of\n",
    "instructions, some way of recording information, and a reasonable\n",
    "amount of time and space? \n",
    "\n",
    "There is a whole fascinating history here. Mathematicians are happy to\n",
    "wrestle with various notions of infinity, but programs must terminate\n",
    "in a finite number of steps to produce values. It isn't too inaccurate\n",
    "to say that computing is just finite mathematics. \n",
    "\n",
    "Today we will inaugurate ourselves into the wonderful world of\n",
    "computing!\n",
    "\n",
    "I'll end today's introduction by relating one of my favorite\n",
    "anecdotes from the history of mathematics.\n"
   ]
  },
  {
   "cell_type": "markdown",
   "id": "d5aa220d",
   "metadata": {},
   "source": [
    "```\n",
    "    I have seen some ultrafinitists go so far as to challenge the\n",
    "    existence of 2^100 as a natural number, in the sense of there\n",
    "    being a series of “points” of that length. There is the obvious\n",
    "    “draw the line” objection, asking where in 21, 22, 23, … , 2^100\n",
    "    do we stop having “Platonistic reality”? Here this … is totally\n",
    "    innocent, in that it can be easily be replaced by 100 items\n",
    "    (names) separated by commas. I raised just this objection with the\n",
    "    (extreme) ultrafinitist Yessenin-Volpin during a lecture of\n",
    "    his. He asked me to be more specific. I then proceeded to start\n",
    "    with 21 and asked him whether this is “real” or something to that\n",
    "    effect. He virtually immediately said yes. Then I asked about 22,\n",
    "    and he again said yes, but with a perceptible delay. Then 23, and\n",
    "    yes, but with more delay. This continued for a couple of more\n",
    "    times, till it was obvious how he was handling this\n",
    "    objection. Sure, he was prepared to always answer yes, but he was\n",
    "    going to take 2100 times as long to answer yes to 2100 then he\n",
    "    would to answering 21. There is no way that I could get very far\n",
    "    with this.\n",
    "\n",
    "    Harvey M. Friedman “Philosophical Problems in Logic”\n",
    "\n",
    "```\n",
    "\n",
    "Working with a computer is like working with Yessenin-Volpin.\n",
    "\n",
    "Evaluation\n",
    "==========\n",
    "\n",
    "The Simplest Expressions\n",
    "------------------------"
   ]
  },
  {
   "cell_type": "markdown",
   "id": "7a6b1681",
   "metadata": {},
   "source": [
    "We've already seen this with Bash. Today, our plan is to build an evaluation model for R. As with Bash, we aren't going to try to achieve a perfect mental model, but we will go substantially further than we did with Bash.\n",
    "\n",
    "We will need to think a bit more about types as well. Let's just get started."
   ]
  },
  {
   "cell_type": "code",
   "execution_count": null,
   "id": "41424743",
   "metadata": {},
   "outputs": [],
   "source": [
    "10"
   ]
  },
  {
   "cell_type": "markdown",
   "id": "9b96ec1e",
   "metadata": {},
   "source": [
    "If you open this document in Rstudio, you will be able to click the little green arrow at the top of the above cell (and others like it) and see the result of evaluating the code (and any side effects).\n",
    "\n",
    "Who can give me a rule which explains this behavior?\n",
    "\n",
    "Here is one:\n",
    "\n",
    "```\n",
    "Rules:\n",
    "1. The characters representing a number evaluate to the number.\n",
    "```\n",
    "\n",
    "Here is another snippet."
   ]
  },
  {
   "cell_type": "code",
   "execution_count": null,
   "id": "270ff692",
   "metadata": {},
   "outputs": [],
   "source": [
    "\"Hello\""
   ]
  },
  {
   "cell_type": "markdown",
   "id": "27937054",
   "metadata": {},
   "source": [
    "A set of characters between `\"` characters evaluate to a string.\n",
    "\n",
    "```\n",
    "Rules:\n",
    "1. The characters representing a number evaluate to the number.\n",
    "2. A set of characters between `\"` characters evaluate to a string.\n",
    "```\n",
    "\n",
    "What about:"
   ]
  },
  {
   "cell_type": "code",
   "execution_count": null,
   "id": "2674dabe",
   "metadata": {},
   "outputs": [],
   "source": [
    "'abcdef'"
   ]
  },
  {
   "cell_type": "markdown",
   "id": "01120763",
   "metadata": {},
   "source": [
    "```\n",
    "Rules:\n",
    "1. The characters representing a number evaluate to the number.\n",
    "2. A set of characters between `\"` characters evaluate to a string.\n",
    "   (a) Or a set of characters between `'`\n",
    "```\n",
    "\n",
    "One more string-related expression:"
   ]
  },
  {
   "cell_type": "code",
   "execution_count": null,
   "id": "e208da07",
   "metadata": {},
   "outputs": [],
   "source": [
    "\"this includes quotes:\\\"\\\"\""
   ]
  },
  {
   "cell_type": "markdown",
   "id": "e1fdb147",
   "metadata": {},
   "source": [
    "A little tricky! When we put a backslash before a character, we tell the interpreter to treat it differently than it usually would. This is a convention widely used throughout programming, although sometimes you see \"%\" used as the escape character or some other convention. In the case of reading strings, we need to modify our rule a little bit.\n",
    "\n",
    "```\n",
    " Rules:\n",
    " 1. The characters representing a number evaluate to the number.\n",
    " 2. A set of characters between unescaped `\"` characters evaluate to a string.\n",
    "    (a) Or a set of characters between unescaped `'`\n",
    "```\n",
    "\n",
    "Bonus points: what if you want to put a backslash into a string? Any guesses?"
   ]
  },
  {
   "cell_type": "markdown",
   "id": "518ba3f9",
   "metadata": {},
   "source": [
    "Algebraic Expressions\n",
    "---------------------"
   ]
  },
  {
   "cell_type": "code",
   "execution_count": 1,
   "id": "ff70c02d",
   "metadata": {
    "lines_to_next_cell": 0
   },
   "outputs": [
    {
     "data": {
      "text/html": [
       "21"
      ],
      "text/latex": [
       "21"
      ],
      "text/markdown": [
       "21"
      ],
      "text/plain": [
       "[1] 21"
      ]
     },
     "metadata": {},
     "output_type": "display_data"
    }
   ],
   "source": [
    "10 + 11"
   ]
  },
  {
   "cell_type": "markdown",
   "id": "bc6cdb74",
   "metadata": {},
   "source": [
    "Rules:\n",
    "1. The characters representing a number are evaluated as the number.\n",
    "2. A set of characters between unescaped `\"` characters are evaluated as a string.\n",
    "   (a) or a set of characters between unescaped `'`.\n",
    "3. When number representations appear in an algebraic expression, the\n",
    "   result is evaluated based on the algebraic expression applied to\n",
    "   the numbers produced by evaluating the character representations of\n",
    "   the numbers. \n",
    "\n",
    "That might seem like a long-winded way of saying what is happening,\n",
    "but it's useful to be precise. "
   ]
  },
  {
   "cell_type": "code",
   "execution_count": null,
   "id": "efdd1a97",
   "metadata": {},
   "outputs": [],
   "source": [
    "(10 + 11) * 2"
   ]
  },
  {
   "cell_type": "markdown",
   "id": "ef0f265a",
   "metadata": {},
   "source": [
    "Ordinary \"high school\" precedence rules apply to algebraic\n",
    "statements. You might think this is obvious, but the most interesting\n",
    "languages tend not to follow these rules for some reason.\n",
    "\n",
    "Variables\n",
    "---------"
   ]
  },
  {
   "cell_type": "code",
   "execution_count": null,
   "id": "ce38aff4",
   "metadata": {},
   "outputs": [],
   "source": [
    "x <- 100\n",
    "x"
   ]
  },
  {
   "cell_type": "markdown",
   "id": "179e8e6b",
   "metadata": {},
   "source": [
    "If we evaluate the code above, nothing visible happens. `<-` is called\n",
    "\"assignment\" and, believe it or not, it is similar to the operators\n",
    "we've encountered above. But its primary use is not to produce a\n",
    "value. It creates (or modifies, as we shall see) a _binding_. A\n",
    "_binding_ is a relationship between a name and a value."
   ]
  },
  {
   "cell_type": "code",
   "execution_count": null,
   "id": "9a399775",
   "metadata": {},
   "outputs": [],
   "source": [
    "y <- 10101\n",
    "y"
   ]
  },
  {
   "cell_type": "markdown",
   "id": "c2552848",
   "metadata": {},
   "source": [
    "Note that we can use `<-` to modify bindings as well. "
   ]
  },
  {
   "cell_type": "code",
   "execution_count": null,
   "id": "9d050bc5",
   "metadata": {},
   "outputs": [],
   "source": [
    "y <- \"Hello World\"\n",
    "y"
   ]
  },
  {
   "cell_type": "markdown",
   "id": "173d7329",
   "metadata": {},
   "source": [
    "We can store strings and numbers in the same variable or,\n",
    "speaking more carefully, a binding doesn't care about the value to\n",
    "which it points.\n",
    "\n",
    "Here is our new set of rules.\n",
    "\n",
    "```\n",
    "Rules:\n",
    "1. The characters representing a number are evaluated as the number.\n",
    "2. A set of characters between unescaped `\"` characters are evaluated as a string.\n",
    "   (a) or a set of characters between unescaped `'`.\n",
    "3. When number representations appear in an algebraic expression, the\n",
    "   result is evaluated based on the algebraic expression applied to\n",
    "   the numbers produced by evaluating the character representations of\n",
    "   the numbers. \n",
    "4. Expressions like `<name> <- <expr>` evaluate `<expr>` and create a\n",
    "   binding to `<name>`.\n",
    "5. `<name>` is evaluated as whatever binding maps `<name>` to a\n",
    "   value. It's an error to mention a name that doesn't have a binding.\n",
    "```\n",
    "\n",
    "NB: A bit of experimentation will confirm that names can contain upper\n",
    "and lowercase letters and underscores but not other punctuation. There\n",
    "are probably other rules, but we aren't going to address them in detail here.\n"
   ]
  },
  {
   "cell_type": "markdown",
   "id": "9b73a872",
   "metadata": {},
   "source": [
    "R's Suite of Assignment Operators\n",
    "---------------------------------\n",
    "\n",
    "In many languages `=` is the assignment operator. And sure enough, one\n",
    "can say:"
   ]
  },
  {
   "cell_type": "code",
   "execution_count": null,
   "id": "16e46a16",
   "metadata": {},
   "outputs": [],
   "source": [
    "x = 10\n",
    "x"
   ]
  },
  {
   "cell_type": "markdown",
   "id": "769bfe22",
   "metadata": {},
   "source": [
    "In R and the expected thing happens. Indeed, you may also write:"
   ]
  },
  {
   "cell_type": "code",
   "execution_count": null,
   "id": "5955ff72",
   "metadata": {},
   "outputs": [],
   "source": [
    "x <<- 10"
   ]
  },
  {
   "cell_type": "markdown",
   "id": "e2969b55",
   "metadata": {},
   "source": [
    "And get what appears to be similar behavior. The difference between\n",
    "`<-` and `=` is somewhat subtle and hinges on a thing you should\n",
    "probably never do anyway. The convention is to use `<-` everywhere\n",
    "unless you mean `<<-`. But we can't yet understand what `<<-` means\n",
    "yet.\n",
    "\n",
    "Collections\n",
    "-----------\n",
    "\n",
    "Collection types are very important in R. Indeed, we shall see that\n",
    "almost all values are in fact collections of one kind or another. But\n",
    "that comes a bit later. For now, consider:"
   ]
  },
  {
   "cell_type": "code",
   "execution_count": null,
   "id": "9807c180",
   "metadata": {},
   "outputs": [],
   "source": [
    "1:10"
   ]
  },
  {
   "cell_type": "markdown",
   "id": "2bec79c6",
   "metadata": {},
   "source": [
    "Our rule is something like:\n",
    "\n",
    "```\n",
    "Rules:\n",
    "1. the characters representing a number evaluates to the number.\n",
    "2. A set of characters between unescaped `\"` characters evaluates to a string.\n",
    "   (a) or a set of characters between unescaped `'`\n",
    "3. When number-representations appear in an algebraic expression the\n",
    "   result is the result of applying the algebraic expression to the\n",
    "   numbers produced by evaluating the character representations of the\n",
    "   numbers. \n",
    "4. And expressions like `<name> <- <expr>` evaluates `<expr>` and creates a\n",
    "   binding to `<name>`.\n",
    "5. `<name>` evaluates to whatever binding maps `<name>` to a\n",
    "   value. Its an error to mention a name that doesn't have a binding.\n",
    "6. <expr1>:<expr> produces a sequence of numbers called an array\n",
    "   starting at <expr1> and ending at <expr2>.\n",
    "```\n",
    "\n",
    "In actuality the semantics of `:` are somewhat more complicated but\n",
    "for our purposes this is enough.\n",
    "\n",
    "We can also denote a collection literally like this:"
   ]
  },
  {
   "cell_type": "code",
   "execution_count": null,
   "id": "b0eebe18",
   "metadata": {},
   "outputs": [],
   "source": [
    "c(1,2,3)"
   ]
  },
  {
   "cell_type": "markdown",
   "id": "393be123",
   "metadata": {},
   "source": [
    "A few things which would be tedious to figure out by\n",
    "experimentation. Collections must be \"homogeneous\" which means they\n",
    "must contain elements which share a type. One often calls such\n",
    "homogeneous collections \"arrays.\"\n",
    "\n",
    "A new rule:\n",
    "\n",
    "```\n",
    "Rules:\n",
    "1. the characters representing a number evaluates to the number.\n",
    "2. A set of characters between unescaped `\"` characters evaluates to a string.\n",
    "   (a) or a set of characters between unescaped `'`\n",
    "3. When number-representations appear in an algebraic expression the\n",
    "   result is the result of applying the algebraic expression to the\n",
    "   numbers produced by evaluating the character representations of the\n",
    "   numbers. \n",
    "4. And expressions like `<name> <- <expr>` evaluates `<expr>` and creates a\n",
    "   binding to `<name>`.\n",
    "5. `<name>` evaluates to whatever binding maps `<name>` to a\n",
    "   value. Its an error to mention a name that doesn't have a binding.\n",
    "6. <expr1>:<expr> produces a sequence of numbers called an array\n",
    "   starting at <expr1> and ending at <expr2>.\n",
    "7. An expression like: c(<e1>,<e2>,...,<en>) produces an array of the\n",
    "   values produced by evaluating <e1> through <en>.\n",
    "```\n",
    "\n",
    "Fun questions which are not that important except when they are: What\n",
    "order are the `<en>` evaluated in?\n",
    "\n",
    "Function Calls\n",
    "--------------\n",
    "\n",
    "Consider:"
   ]
  },
  {
   "cell_type": "code",
   "execution_count": null,
   "id": "651b459a",
   "metadata": {},
   "outputs": [],
   "source": [
    "x <- 10*pi;\n",
    "y <- sin(x);\n",
    "print(y)"
   ]
  },
  {
   "cell_type": "markdown",
   "id": "ba2f13f4",
   "metadata": {},
   "source": [
    "Observation:\n",
    "\n",
    "```\n",
    "1. there are variables that are pre-bound.\n",
    "2. some (most) of them are \"functions\".\n",
    "```\n",
    "\n",
    "New rule:\n",
    "\n",
    "```\n",
    "Rules:\n",
    "1. the characters representing a number evaluates to the number.\n",
    "2. A set of characters between unescaped `\"` characters evaluates to a string.\n",
    "   (a) or a set of characters between unescaped `'`\n",
    "3. When number-representations appear in an algebraic expression the\n",
    "   result is the result of applying the algebraic expression to the\n",
    "   numbers produced by evaluating the character representations of the\n",
    "   numbers. \n",
    "4. And expressions like `<name> <- <expr>` evaluates `<expr>` and creates a\n",
    "   binding to `<name>`.\n",
    "5. `<name>` evaluates to whatever binding maps `<name>` to a\n",
    "   value. Its an error to mention a name that doesn't have a binding.\n",
    "6. <expr1>:<expr> produces a sequence of numbers called an array\n",
    "   starting at <expr1> and ending at <expr2>.\n",
    "xb7. An expression like: c(<e1>,<e2>,...,<en>) produces an array of the\n",
    "   values produced by evaluating <e1> through <en>.\n",
    "8. an expression like <expr>(<a1>, <a2>, ...) is a 'function call'. It evaluates \n",
    "   to the function value. For build in functions this is just given to us.\n",
    "```\n",
    "\n",
    "Question: is `c` a function? What about `+`, `-`, etc?\n",
    "\n",
    "Answer: They are functions. In most languages they would be operators,\n",
    "but in R just about everything is a function. `+`, `-` etc are _infix_\n",
    "functions and the language allows us to rely on precedence. But we can\n",
    "always invoke them in the \"ordinary\" way like this:"
   ]
  },
  {
   "cell_type": "code",
   "execution_count": null,
   "id": "a59fdf6c",
   "metadata": {},
   "outputs": [],
   "source": [
    "`+`(1,2)\n",
    "\n",
    "z <- `+`\n",
    "z(1,2)\n",
    " "
   ]
  },
  {
   "cell_type": "markdown",
   "id": "6cc63edb",
   "metadata": {},
   "source": [
    "```\n",
    "Rules:\n",
    "1. the characters representing a number evaluates to the number.\n",
    "2. A set of characters between unescaped `\"` characters evaluates to a string.\n",
    "   (a) or a set of characters between unescaped `'`\n",
    "3. When number-representations appear in an algebraic expression the\n",
    "   result is the result of applying the algebraic expression to the\n",
    "   numbers produced by evaluating the character representations of the\n",
    "   numbers. \n",
    "4. And expressions like `<name> <- <expr>` evaluates `<expr>` and creates a\n",
    "   binding to `<name>`.\n",
    "5. `<name>` evaluates to whatever binding maps `<name>` to a\n",
    "   value. Its an error to mention a name that doesn't have a binding.\n",
    "6. <expr1>:<expr> produces a sequence of numbers called an array\n",
    "   starting at <expr1> and ending at <expr2>.\n",
    "7. An expression like: c(<e1>,<e2>,...,<en>) produces an array of the\n",
    "   values produced by evaluating <e1> through <en>.\n",
    "8. an expression like <expr>(<a1>, <a2>, ...) is a 'function call'. It evaluates \n",
    "   to the function value. For build in functions this is just given to us.\n",
    "9. An expression like `<expr>`(<a1>, <a2>, ...) is a function call but <expr> must be an infix or special operator.\n",
    "```\n",
    "\n",
    "Note that even `<-` is a function! This use of functions for\n",
    "everything, along with some other properties of R, make R a very hard\n",
    "language to _optimize_ but there is a lot to be said for the\n",
    "uniformity.\n",
    "\n",
    "Conditionals and Loops \n",
    "----------------------\n",
    "\n",
    "Conditionals and loops are what makes a language \"Turing Complete\"\n",
    "which basically means you can compute anything computable with it.\n",
    "\n",
    "In that sense they are important. I will say rather gnomically that\n",
    "conditionals and especially loops are code smells, though. If you see\n",
    "a lot of them you should probably think about what you are\n",
    "doing. Anyway, we must cover them for completeness's sake:\n",
    "\n",
    "First consider:"
   ]
  },
  {
   "cell_type": "code",
   "execution_count": null,
   "id": "3d001a01",
   "metadata": {},
   "outputs": [],
   "source": [
    "c(T,F)"
   ]
  },
  {
   "cell_type": "markdown",
   "id": "e05bd719",
   "metadata": {},
   "source": [
    "Apparently this produces an array of Boolean values. Two new rules:"
   ]
  },
  {
   "cell_type": "markdown",
   "id": "7f0d8340",
   "metadata": {},
   "source": [
    "```\n",
    "Rules:\n",
    "1. the characters representing a number evaluates to the number.\n",
    "2. A set of characters between unescaped `\"` characters evaluates to a string.\n",
    "   (a) or a set of characters between unescaped `'`\n",
    "3. When number-representations appear in an algebraic expression the\n",
    "   result is the result of applying the algebraic expression to the\n",
    "   numbers produced by evaluating the character representations of the\n",
    "   numbers. \n",
    "4. And expressions like `<name> <- <expr>` evaluates `<expr>` and creates a\n",
    "   binding to `<name>`.\n",
    "5. `<name>` evaluates to whatever binding maps `<name>` to a\n",
    "   value. Its an error to mention a name that doesn't have a binding.\n",
    "6. <expr1>:<expr> produces a sequence of numbers called an array\n",
    "   starting at <expr1> and ending at <expr2>.\n",
    "7. An expression like: c(<e1>,<e2>,...,<en>) produces an array of the\n",
    "   values produced by evaluating <e1> through <en>.\n",
    "8. an expression like <expr>(<a1>, <a2>, ...) is a 'function call'. It evaluates \n",
    "   to the function value. For build in functions this is just given to us.\n",
    "9. An expression like `<expr>`(<a1>, <a2>, ...) is a function call but <expr> must be an infix or special operator.\n",
    "```\n",
    "\n",
    "### Conditionals"
   ]
  },
  {
   "cell_type": "code",
   "execution_count": null,
   "id": "be16ba2c",
   "metadata": {},
   "outputs": [],
   "source": [
    "x <- 10;\n",
    "if(x < 100){\n",
    "    \"Hello\"\n",
    "} else {\n",
    "    \"Goodbye\"\n",
    "}"
   ]
  },
  {
   "cell_type": "markdown",
   "id": "fbf448a4",
   "metadata": {},
   "source": [
    "This _evaluates to_ \"Hello\". Eg, we may write:"
   ]
  },
  {
   "cell_type": "code",
   "execution_count": null,
   "id": "31c4f5e5",
   "metadata": {},
   "outputs": [],
   "source": [
    "x <- 10;\n",
    "y <- if (x < 100){\n",
    "         \"Hello\"\n",
    "     } else {\n",
    "         \"Goodbye\"\n",
    "     }"
   ]
  },
  {
   "cell_type": "markdown",
   "id": "ca66f2ae",
   "metadata": {},
   "source": [
    "STOP\n",
    "\n",
    "This will give 10. \n",
    "\n",
    "```\n",
    "Rules:\n",
    "1. the characters representing a number evaluates to the number.\n",
    "2. A set of characters between unescaped `\"` characters evaluates to a string.\n",
    "   (a) or a set of characters between unescaped `'`\n",
    "3. When number-representations appear in an algebraic expression the\n",
    "   result is the result of applying the algebraic expression to the\n",
    "   numbers produced by evaluating the character representations of the\n",
    "   numbers. \n",
    "4. And expressions like `<name> <- <expr>` evaluates `<expr>` and creates a\n",
    "   binding to `<name>`.\n",
    "5. `<name>` evaluates to whatever binding maps `<name>` to a\n",
    "   value. Its an error to mention a name that doesn't have a binding.\n",
    "6. <expr1>:<expr> produces a sequence of numbers called an array\n",
    "   starting at <expr1> and ending at <expr2>.\n",
    "7. An expression like: c(<e1>,<e2>,...,<en>) produces an array of the\n",
    "   values produced by evaluating <e1> through <en>.\n",
    "8. an expression like <expr>(<a1>, <a2>, ...) is a 'function call'. It evaluates \n",
    "   to the function value. For build in functions this is just given to us.\n",
    "9. An expression like `<expr>`(<a1>, <a2>, ...) is a function call but <expr> must be an infix or special operator.\n",
    "10. if(<expr1>){ <t1>; ... <tn> } else { <f1>; ... <fn> } evalutes to <tn> if <expr1> is T, and <fn> otherwise. F, 0 count as False and most other values count as true.\n",
    "```\n",
    "\n",
    "### Loops"
   ]
  },
  {
   "cell_type": "code",
   "execution_count": null,
   "id": "d84eeeed",
   "metadata": {},
   "outputs": [],
   "source": [
    "x <- 0;\n",
    "while (x < 10) {\n",
    "    x <- x + 1;\n",
    "}\n",
    "x"
   ]
  },
  {
   "cell_type": "markdown",
   "id": "dcc38566",
   "metadata": {},
   "source": [
    "```\n",
    "11. while(<test>) { body0; .. bodyN } evaluates the block until <test> is F.\n",
    "```"
   ]
  },
  {
   "cell_type": "code",
   "execution_count": null,
   "id": "d113f896",
   "metadata": {},
   "outputs": [],
   "source": [
    "for(x in c(1,2,3)) {\n",
    "    print(x)\n",
    "}"
   ]
  },
  {
   "cell_type": "markdown",
   "id": "cb0668f5",
   "metadata": {},
   "source": [
    "```\n",
    "12. for(<name> in <sequence-expression>) {\n",
    "        <body0>;\n",
    "        ...\n",
    "        <bodyN>;\n",
    "    } Evaluates the block many times, with <name> bound to subsequent values of \n",
    "    <sequence-expression>.\n",
    "```\n",
    "\n",
    "Functions\n",
    "---------\n",
    "\n",
    "Now we get to the good stuff.\n",
    "\n",
    "```\n",
    "quadratic_formula <- function(a,b,c){\n",
    "    r <- sqrt(b*b - 4*a*c);\n",
    "    n1 <- -b + r;\n",
    "    n2 <- -b - r;\n",
    "    d <- 2*a;\n",
    "    c(n1/d, n2/d);\n",
    "}\n",
    "quadratic_formula(9,100,11)\n",
    "```\n",
    "\n",
    "Observation: Creating a function is just creating a certain kind of\n",
    "value. Function values are bound to variables in the same way as other\n",
    "kinds of values.\n",
    "\n",
    "So we don't need to modify our evaluation rules for variable binding\n",
    "for functions.\n",
    "\n",
    "But we need to think a little bit about what is going on inside the\n",
    "\"body\" of the function."
   ]
  },
  {
   "cell_type": "code",
   "execution_count": null,
   "id": "c3c541b0",
   "metadata": {},
   "outputs": [],
   "source": [
    "quadratic_formula <- function(a,b,c){\n",
    "    r <- sqrt(b*b - 4*a*c);\n",
    "    n1 <- -b + r;\n",
    "    n2 <- -b - r;\n",
    "    d <- 2*a;\n",
    "    c(n1/d, n2/d);\n",
    "}\n",
    "quadratic_formula(9,100,11)\n",
    "c(r, n1, n2, d)"
   ]
  },
  {
   "cell_type": "markdown",
   "id": "5a4243bc",
   "metadata": {},
   "source": [
    "What will this give? Answer: an error. We bound a series of variables\n",
    "_inside_ the function but these bindings do not persist outside of\n",
    "it. When the function is called it creates a new environment in which\n",
    "to evaluate its body.\n",
    "\n",
    "That environment comes pre-furnished with bindings which come from its\n",
    "argument list (a, b, and c in our example), but the programmer may\n",
    "extend the environment using `<-` expressions."
   ]
  },
  {
   "cell_type": "markdown",
   "id": "11b5d148",
   "metadata": {},
   "source": [
    "Our rule for function definitions is sort of complicated:\n",
    "\n",
    "```\n",
    "13.  function(<a1>, ... <an>) {\n",
    "         <b1>;\n",
    "         ...\n",
    "         <bn>\n",
    "     } creates a new function. When the function is called R creates a new environment\n",
    "       and evaluates the terms <b1> through <bn> in it. The functions final \n",
    "       value is <bn>.\n",
    "```\n",
    "\n",
    "Revisiting Variable Lookup\n",
    "--------------------------\n",
    "\n",
    "Now that we have the ability to create new environments we have to\n",
    "think relatively carefully about how variables are looked up. So far\n",
    "we've just had a single environment: the so-called \"top level\". We've\n",
    "added bindings to the top level using `<name> <- <expr>`\n",
    "statements. But now we have multiple environments with which to\n",
    "interact.\n",
    "\n",
    "Note that we can call a function immediately, without giving it a\n",
    "name. And we may use a single expression instead of a block."
   ]
  },
  {
   "cell_type": "code",
   "execution_count": null,
   "id": "dc85c878",
   "metadata": {},
   "outputs": [],
   "source": [
    "x <- 1000;\n",
    "(function() x)()"
   ]
  },
  {
   "cell_type": "markdown",
   "id": "7c499c05",
   "metadata": {},
   "source": [
    "From this example we can conclude that _if_ R finds no binding in the\n",
    "enclosing environment, then it looks in the parent environment for a\n",
    "value. But let's put a finer point on this idea."
   ]
  },
  {
   "cell_type": "code",
   "execution_count": null,
   "id": "5a1697f6",
   "metadata": {},
   "outputs": [],
   "source": [
    "make_constant_function <- function(value){\n",
    "    function(){\n",
    "        value;\n",
    "    }\n",
    "}\n",
    "always_1 <- make_constant_function(1);"
   ]
  },
  {
   "cell_type": "markdown",
   "id": "d49ef3b8",
   "metadata": {},
   "source": [
    "We may construct many such functions:"
   ]
  },
  {
   "cell_type": "code",
   "execution_count": null,
   "id": "341b5f0b",
   "metadata": {},
   "outputs": [],
   "source": [
    "always_hi <- make_constant_function(\"hi\");"
   ]
  },
  {
   "cell_type": "markdown",
   "id": "e5258760",
   "metadata": {},
   "source": [
    "```\n",
    "14. Inside function environments, variables are looked up using a rule called \n",
    "\"lexical scope.\" The nearest enclosing binding _in the text of the program_ is \n",
    "returned. Thus functions \"remember\" their environment, even if it would otherwise\n",
    "be transient in nature.\n",
    "```\n",
    "\n",
    "Given a variable binding in an environment, we have been able to\n",
    "modify it using `<-`:"
   ]
  },
  {
   "cell_type": "code",
   "execution_count": null,
   "id": "576baf9f",
   "metadata": {},
   "outputs": [],
   "source": [
    "x <- 10;\n",
    "x <- 11; ## This modifies the binding of x.\n",
    "x"
   ]
  },
  {
   "cell_type": "markdown",
   "id": "212ea842",
   "metadata": {},
   "source": [
    "Consider the following example. We want a function which returns a\n",
    "function which acts like a counter. We provide an initial value and\n",
    "an incr and then we get back a function which counts from the\n",
    "initial value by the incr on each call."
   ]
  },
  {
   "cell_type": "code",
   "execution_count": null,
   "id": "1381b484",
   "metadata": {},
   "outputs": [],
   "source": [
    "\n",
    "make_counter_attempt <- function(start, incr){\n",
    "    value <- start;\n",
    "    function(){\n",
    "        old_value <- value;\n",
    "        value <- value + 1;\n",
    "        old_value;\n",
    "    }\n",
    "}\n",
    "counter_from_1 <- make_counter_attempt(1,1);\n",
    "counter_from_1()\n",
    "counter_from_1()"
   ]
  },
  {
   "cell_type": "markdown",
   "id": "1d56de1d",
   "metadata": {},
   "source": [
    "This returns 1 no many how many times we call it. Why?\n",
    "\n",
    "Because `<-` creates a binding in the _inner_ function\n",
    "environment. It doesn't _update_ the parent environment's\n",
    "_value_. We need another operator for that: `<<-`.\n",
    "\n",
    "Here is the correct version:"
   ]
  },
  {
   "cell_type": "code",
   "execution_count": null,
   "id": "fe64eca3",
   "metadata": {},
   "outputs": [],
   "source": [
    "make_counter <- function(start, incr){\n",
    "    value <- start;\n",
    "    function(){\n",
    "        old_value <- value;\n",
    "        value <<- value + incr; ## Update the old value in the parent scope.\n",
    "        old_value;\n",
    "    }\n",
    "}\n",
    "counter_from_1 <- make_counter(1,1);\n",
    "counter_from_1()\n",
    "counter_from_1()"
   ]
  },
  {
   "cell_type": "markdown",
   "id": "a954e2eb",
   "metadata": {},
   "source": [
    "This gives us what we want.\n",
    "\n",
    "```\n",
    "15. `<-` always creates a binding in the current environment. \n",
    "`<<-` modifies the nearest enclosing binding if it exists. \n",
    "Otherwise it creates a new one.\n",
    "```\n",
    "\n",
    "Named And Default Arguments\n",
    "---------------------------\n",
    "\n",
    "Arguments to functions are typically assigned by order but you can\n",
    "also give arguments default values (which also gives the user the\n",
    "ability to specify arguments by name)."
   ]
  },
  {
   "cell_type": "code",
   "execution_count": null,
   "id": "51e2acc8",
   "metadata": {},
   "outputs": [],
   "source": [
    "example <- function(x=10,y=11){\n",
    "    x+y;\n",
    "}"
   ]
  },
  {
   "cell_type": "code",
   "execution_count": null,
   "id": "27929a9a",
   "metadata": {},
   "outputs": [],
   "source": [
    "example(x=100);\n",
    "example(y=13);\n",
    "example(y=12,x=1);\n",
    "example(101);"
   ]
  },
  {
   "cell_type": "markdown",
   "id": "6f43747c",
   "metadata": {},
   "source": [
    "Laziness\n",
    "--------\n",
    "\n",
    "Consider:"
   ]
  },
  {
   "cell_type": "code",
   "execution_count": null,
   "id": "9451cfa5",
   "metadata": {},
   "outputs": [],
   "source": [
    "\n",
    "nope <- function(x){\n",
    "    TRUE\n",
    "}\n",
    "\n",
    "nope(print(\"Hello Everyone\"));\n"
   ]
  },
  {
   "cell_type": "markdown",
   "id": "dd9135f2",
   "metadata": {},
   "source": [
    "This _does not_ print \"Hello Everyone\" because the body of the\n",
    "function doesn't \"use\" `x` and thus the expression"
   ]
  },
  {
   "cell_type": "code",
   "execution_count": null,
   "id": "d15ff54f",
   "metadata": {},
   "outputs": [],
   "source": [
    "ope <- function(x){\n",
    "    x\n",
    "}\n",
    "ope(print(\"Hi\"));"
   ]
  },
  {
   "cell_type": "markdown",
   "id": "8d2e2c34",
   "metadata": {},
   "source": [
    "Will print `x`.\n",
    "\n",
    "Intermission\n",
    "============\n",
    "\n",
    "Our heads are probably filled to bursting at this point. But what\n",
    "we've done here has just been a more elaborate version of the\n",
    "exercise we went through with bash. In Bash scripting we have a set\n",
    "of relatively disjoint \"environments\": the filesystem, aliases, and\n",
    "environment variables. It isn't simplifying things too much to say\n",
    "that in Bash this is all you've got by way of environments.\n",
    "\n",
    "In R (so far) we've just seen one _kind_ of environment: one which\n",
    "just maps names to values of any kind. Regular values and functions\n",
    "share this environment.\n",
    "\n",
    "The primary difference has, so far, been that function calls create\n",
    "their own environments, and nested function definitions introduce\n",
    "relatively complicated variable lookup rules.\n",
    "\n",
    "Unless you get into so-called functional programming you might get\n",
    "by quite a while without having to think about these things in\n",
    "detail but unfortunately, in R, because of the Tidyverse, we need to\n",
    "develop a relatively good level of confidence with variable lookup\n",
    "rules because the Tidyverse breaks the rules pretty liberally.\n",
    "\n",
    "Tidbits\n",
    "=======\n",
    "\n",
    "Before we jump back into the crazy stuff, a few tidbits. \n",
    "\n",
    "```\n",
    "?<function-name>\n",
    "```\n",
    "\n",
    "Will load the help for any built in function or any library function\n",
    "which has been properly documented.\n",
    "\n",
    "```\n",
    "apropos(\"search-term\")\n",
    "```\n",
    "\n",
    "returns functions related to the search term. Sort of\n",
    "useful. Probably better to use Duck Duck Go.\n",
    "\n",
    "Newlines can be placed after a binary operator without changing the\n",
    "meaning of the phrase."
   ]
  },
  {
   "cell_type": "code",
   "execution_count": null,
   "id": "5eedbabe",
   "metadata": {},
   "outputs": [],
   "source": [
    "10 +\n",
    "    11 ## ok\n",
    "\n",
    "10\n",
    "+ 11 ## wrongish - 10, then 11"
   ]
  },
  {
   "cell_type": "markdown",
   "id": "6ffdb773",
   "metadata": {},
   "source": [
    "    Parentheses also work. You can also put newlines after commas in an argument list.\n",
    "\n",
    "Nonstandard Evaluation\n",
    "======================\n",
    "\n",
    "This is it!\n",
    "\n",
    "Let's prime our brains with a bit more mundane everyday R."
   ]
  },
  {
   "cell_type": "code",
   "execution_count": null,
   "id": "4b438f89",
   "metadata": {},
   "outputs": [],
   "source": [
    "\n",
    "library(tidyverse);\n",
    "dataframe <- read_csv(\"source_data/character-data.csv\") %>% distinct();\n",
    "head(dataframe);\n"
   ]
  },
  {
   "cell_type": "markdown",
   "id": "8260e3eb",
   "metadata": {},
   "source": [
    "A dataframe is a really useful abstraction. It is a \"data structure\"\n",
    "which gives a row by column view of a data set. Each column is given\n",
    "a name. Data frames are the basis of most sorts of data analysis you\n",
    "might do in R.\n",
    "\n",
    "The \"tidyverse\" comes with a library \"dplyr\" which lets us quickly\n",
    "operate on data frames.\n",
    "\n",
    "eg:"
   ]
  },
  {
   "cell_type": "code",
   "execution_count": null,
   "id": "63b8a09a",
   "metadata": {},
   "outputs": [],
   "source": [
    "\n",
    "dataframe %>% group_by(property_name) %>% tally() %>% arrange(desc(n))\n",
    "\n",
    "group_by(dataframe, property_name)\n"
   ]
  },
  {
   "cell_type": "markdown",
   "id": "76822608",
   "metadata": {},
   "source": [
    "A pretty common step in pre-processing data is to regularize and\n",
    "simplify character data. We can do this by removing spaces and\n",
    "non-alphanumeric characters and shifting everything to lowercase.\n",
    "\n",
    "eg:"
   ]
  },
  {
   "cell_type": "code",
   "execution_count": null,
   "id": "c6c91586",
   "metadata": {},
   "outputs": [],
   "source": [
    "\n",
    "library(stringr);\n",
    "\n",
    "normalize_strings <- function(s){\n",
    "    str_replace_all(str_to_lower(s), \"[^a-z]+\", \"_\");\n",
    "}\n",
    "\n",
    "tidied <- dataframe %>%\n",
    "    mutate(property_name=normalize_strings(property_name),\n",
    "           universe=normalize_strings(universe),\n",
    "           character=normalize_strings(character),\n",
    "           value=normalize_strings(value)) %>% distinct();\n"
   ]
  },
  {
   "cell_type": "markdown",
   "id": "1f96ede2",
   "metadata": {},
   "source": [
    "Question: Above, inside the argument list for \"mutate\", we mention\n",
    "`property_name`? The code runs, and apparently _in that context_ it\n",
    "refers to the `property_name` column of the data frame. But _how_\n",
    "can we integrate that with our evaluation model?\n",
    "\n",
    "Currently, our model tells us that R sees the name and then looks in\n",
    "successively nested lexical environments until it sees one where the\n",
    "variable is bound. But there is no environment in our \"stack\" of\n",
    "environments where `property_name` is bound. So what gives?\n",
    "\n",
    "What gives is non-standard evaluation.\n",
    "\n",
    "substitute\n",
    "----------\n",
    "\n",
    "Consider the function:"
   ]
  },
  {
   "cell_type": "code",
   "execution_count": null,
   "id": "7376b974",
   "metadata": {},
   "outputs": [],
   "source": [
    "ex <- function(x){\n",
    "    substitute(x);\n",
    "}\n",
    "ex(v1+v2)"
   ]
  },
  {
   "cell_type": "markdown",
   "id": "91dc33d7",
   "metadata": {},
   "source": [
    "Recall that R is lazy about evaluating its arguments. `substitute`\n",
    "is a function which returns its arguments _without evaluating\n",
    "them_. Now we have something which we may call an \"expression.\"\n",
    "\n",
    "This might be a little surprising of a thing to have, but if we\n",
    "think about what a programming language is its no surprise such a\n",
    "thing exists. R is just handing us the object it uses to evaluate\n",
    "code.\n",
    "\n",
    "Given an expression we can _evaluate it ourselves_ with `eval`."
   ]
  },
  {
   "cell_type": "code",
   "execution_count": null,
   "id": "2dbf53dd",
   "metadata": {},
   "outputs": [],
   "source": [
    "eval(ex(v1+v2),list(v1=c(1,2,3), v2=c(4,5,6)));"
   ]
  },
  {
   "cell_type": "markdown",
   "id": "b6f9b1ca",
   "metadata": {},
   "source": [
    "Now we can (almost) understand how `mutate` is doing its trick. It\n",
    "is capturing its arguments and substituting in its own evaluation\n",
    "context. Something like this:"
   ]
  },
  {
   "cell_type": "code",
   "execution_count": null,
   "id": "406dca33",
   "metadata": {},
   "outputs": [],
   "source": [
    "do_with_dataframe_columns <- function(df, expr){\n",
    "    eval(substitute(expr), df);\n",
    "}"
   ]
  },
  {
   "cell_type": "markdown",
   "id": "e850645d",
   "metadata": {},
   "source": [
    "With this function we may say:"
   ]
  },
  {
   "cell_type": "code",
   "execution_count": null,
   "id": "dae67d72",
   "metadata": {},
   "outputs": [],
   "source": [
    "a_frame <- tibble(x=c(1,2,3), y=c(4,5,6));\n",
    "do_with_dataframe_columns(a_frame, x*y);"
   ]
  },
  {
   "cell_type": "markdown",
   "id": "ec26f9d1",
   "metadata": {},
   "source": [
    "Of course, something more complicated must be going on with the\n",
    "tidyverse functions because the expressions we use there can access\n",
    "both column values and regular variable values from the environment\n",
    "where the expression was created.\n",
    "\n",
    "How does that work?\n",
    "\n",
    "A Stack of Environments\n",
    "-----------------------\n",
    "\n",
    "We can take inspiration from R itself for our solution. In fact,\n",
    "we're just going to rely on R's own strategy.\n",
    "\n",
    "Here we go:"
   ]
  },
  {
   "cell_type": "code",
   "execution_count": null,
   "id": "0aa75536",
   "metadata": {},
   "outputs": [],
   "source": [
    "\n",
    "do_with_dataframe_columns2 <- function(df, expr){\n",
    "    e <- as.environment(df); ## Create an official environment object\n",
    "    parent.env(e) <- parent.frame(); ## set its parent to the environment where the function was called\n",
    "    eval(substitute(expr), e); ## Perform the evaluation.\n",
    "}\n",
    "\n",
    "z <- 100;\n",
    "\n",
    "do_with_dataframe_columns2(a_frame, z + x + y)\n"
   ]
  },
  {
   "cell_type": "markdown",
   "id": "77be7b4f",
   "metadata": {},
   "source": [
    "Problems w/ Tidyverse Evaluation\n",
    "================================\n",
    "\n",
    "Suppose you want to write a function which performs `group_by` and\n",
    "`tally` over a user-provided column.  Here is an attempt:"
   ]
  },
  {
   "cell_type": "code",
   "execution_count": null,
   "id": "446aa99b",
   "metadata": {},
   "outputs": [],
   "source": [
    "group_and_tally <- function(df, column){\n",
    "    df %>% group_by(column) %>% tally();\n",
    "}\n",
    "group_and_tally(dataframe, property_name);"
   ]
  },
  {
   "cell_type": "markdown",
   "id": "c9165c6a",
   "metadata": {},
   "source": [
    "This gives us an error:\n",
    "\n",
    "```\n",
    "+ + > Error: Must group by variables found in `.data`.\n",
    "* Column `column` is not found.\n",
    "Run `rlang::last_error()` to see where the error occurred.\n",
    "> \n",
    "```\n",
    "\n",
    "Tons of problems here! \n",
    "\n",
    "1. Because of the non-standard evaluation, we don't even true to\n",
    "   evaluate `property_name`. \n",
    "2. Instead the evaluation strategy of the\n",
    "   tidyverse tries to evaluate `column` which we want to evaluate to\n",
    "   `property_name`. which hardly even makes sense.\n",
    "   \n",
    "We need some way to tell the tidyverse function that we want to use\n",
    "the _value_ of the argument passed in."
   ]
  },
  {
   "cell_type": "code",
   "execution_count": null,
   "id": "f7052c9a",
   "metadata": {},
   "outputs": [],
   "source": [
    "group_and_tally <- function(df, column){\n",
    "    df %>% group_by({{ column }}) %>% tally();\n",
    "}\n",
    "group_and_tally(dataframe, property_name);"
   ]
  },
  {
   "cell_type": "markdown",
   "id": "9adf5b54",
   "metadata": {},
   "source": [
    "The construct `{{ }}` is called an \"embrace.\" It is more a feature of\n",
    "the tidyverse than of R - the braces tell a tidyverse function that\n",
    "you want to refer to the name of the argument at the function\n",
    "call. How precisely `{{ }}` manages to work is out of the scope of\n",
    "this course but you can imagine: `group_by` captures the argument\n",
    "without evaluating it, inspects it to see that it is a `{{ }}`\n",
    "expression and then further pokes around in the current and parent\n",
    "environment to figure out what the enclosed symbol means.\n",
    "\n",
    "The Top Level Environment, Libraries and Packages\n",
    "=================================================\n",
    "\n",
    "In a latter portion of the course we will talk about how to write our\n",
    "own R libraries. But now that we have a relatively good understanding\n",
    "of environments and how variables are looked up we can understand how\n",
    "libraries work.\n",
    "\n",
    "When we say something like "
   ]
  },
  {
   "cell_type": "code",
   "execution_count": null,
   "id": "45855bac",
   "metadata": {},
   "outputs": [],
   "source": [
    "library(readr)"
   ]
  },
  {
   "cell_type": "markdown",
   "id": "39a6f16e",
   "metadata": {},
   "source": [
    "We are telling R to insert the `readr` package (which you can think of\n",
    "as a kind of environment) onto the stack of environments in which R\n",
    "looks up top level bindings. Thus, all the exported variables in the\n",
    "package become visible.\n",
    "\n",
    "What happens if two packages expose the same variable? R will warn you\n",
    "that one has shadowed the other.\n",
    "\n",
    "Note that you can always access any variable from an installed package\n",
    "with a namespace qualifier like this:"
   ]
  },
  {
   "cell_type": "code",
   "execution_count": null,
   "id": "57080aea",
   "metadata": {},
   "outputs": [],
   "source": [
    "readr::read_csv"
   ]
  },
  {
   "cell_type": "markdown",
   "id": "b22f0ee1",
   "metadata": {},
   "source": [
    "Indeed, when writing R packages, such explicit references are\n",
    "preferred.\n",
    "\n",
    "Conclusions\n",
    "===========\n",
    "\n",
    "The important thing to appreciate in this chapter is that because of \n",
    "\n",
    "1. The lazy nature of R's evaluation of function arguments,\n",
    "2. The ability of function bodies to capture the expression passed in\n",
    "   rather than the value they represent\n",
    "3. The support in R for evaluating expressions in user-crafted\n",
    "   environments\n",
    "   \n",
    "it is possible that what looks like normal R code might do something\n",
    "surprising or cause surprising issues. \n",
    "\n",
    "In some languages such features might be a mere curiousity but in R\n",
    "there is a widely used library set called the \"tidyverse\" which makes\n",
    "extensive use of these non-standard evaluation strategies. In our next\n",
    "lecture we will begin to discuss these libraries. \n",
    "\n",
    "In general we will not pause to dwell on the non-standard semantics of\n",
    "expressions in the tidyverse unless they are of special interest, but\n",
    "its worthwhile that we appreciate that black magic is going on.\n",
    "\n"
   ]
  }
 ],
 "metadata": {
  "jupytext": {
   "cell_metadata_filter": "-all",
   "main_language": "R",
   "notebook_metadata_filter": "-all"
  },
  "kernelspec": {
   "display_name": "R",
   "language": "R",
   "name": "ir"
  },
  "language_info": {
   "codemirror_mode": "r",
   "file_extension": ".r",
   "mimetype": "text/x-r-source",
   "name": "R",
   "pygments_lexer": "r",
   "version": "4.1.2"
  }
 },
 "nbformat": 4,
 "nbformat_minor": 5
}
